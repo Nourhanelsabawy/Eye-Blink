{
 "cells": [
  {
   "cell_type": "markdown",
   "metadata": {},
   "source": [
    "# Importing libraries"
   ]
  },
  {
   "cell_type": "code",
   "execution_count": 12,
   "metadata": {},
   "outputs": [],
   "source": [
    "import cv2\n",
    "import cvzone\n",
    "import time\n",
    "from cvzone.FaceMeshModule import FaceMeshDetector\n",
    "from cvzone.PlotModule import LivePlot\n"
   ]
  },
  {
   "cell_type": "markdown",
   "metadata": {},
   "source": [
    "# Initializing parameters"
   ]
  },
  {
   "cell_type": "code",
   "execution_count": 13,
   "metadata": {},
   "outputs": [],
   "source": [
    "cap = cv2.VideoCapture(0)\n",
    "detector = FaceMeshDetector(maxFaces=1)\n",
    "plotY = LivePlot(640, 360, [20, 50],invert=True )\n",
    "\n",
    "idList = [22, 23, 24, 26, 110, 157, 158, 159, 160, 161, 130, 243]\n",
    "ratioList = []\n",
    "blinkCounter = 0\n",
    "counter = 0\n",
    "color = (255, 0, 255)\n"
   ]
  },
  {
   "cell_type": "markdown",
   "metadata": {},
   "source": [
    "# eye blink detection"
   ]
  },
  {
   "cell_type": "code",
   "execution_count": 14,
   "metadata": {},
   "outputs": [
    {
     "name": "stdout",
     "output_type": "stream",
     "text": [
      "48.0\n",
      "47.5\n",
      "47.0\n",
      "46.666666666666664\n",
      "47.0\n",
      "47.0\n",
      "46.666666666666664\n",
      "46.0\n",
      "44.333333333333336\n",
      "42.333333333333336\n",
      "39.333333333333336\n",
      "39.0\n",
      "39.666666666666664\n",
      "42.0\n",
      "41.666666666666664\n",
      "40.666666666666664\n",
      "40.0\n",
      "40.333333333333336\n",
      "41.333333333333336\n",
      "41.0\n",
      "41.333333333333336\n",
      "40.333333333333336\n",
      "40.333333333333336\n",
      "40.333333333333336\n",
      "40.333333333333336\n",
      "39.666666666666664\n",
      "39.0\n",
      "39.666666666666664\n",
      "40.0\n",
      "40.0\n",
      "39.666666666666664\n",
      "40.0\n",
      "40.0\n",
      "40.0\n",
      "39.666666666666664\n",
      "39.333333333333336\n",
      "39.333333333333336\n",
      "38.666666666666664\n",
      "39.0\n",
      "39.333333333333336\n",
      "40.333333333333336\n",
      "41.0\n",
      "40.333333333333336\n",
      "40.333333333333336\n",
      "39.666666666666664\n",
      "40.333333333333336\n",
      "39.333333333333336\n",
      "40.666666666666664\n",
      "41.333333333333336\n",
      "43.666666666666664\n",
      "43.666666666666664\n",
      "43.666666666666664\n",
      "41.333333333333336\n",
      "40.0\n",
      "35.0\n",
      "31.666666666666668\n",
      "28.333333333333332\n",
      "29.333333333333332\n",
      "30.0\n",
      "30.666666666666668\n",
      "31.333333333333332\n",
      "32.333333333333336\n",
      "33.333333333333336\n"
     ]
    }
   ],
   "source": [
    "while True:\n",
    "\n",
    "    #if cap.get(cv2.CAP_PROP_POS_FRAMES) == cap.get(cv2.CAP_PROP_FRAME_COUNT):\n",
    "        #cap.set(cv2.CAP_PROP_POS_FRAMES, 0)\n",
    "\n",
    "    success, img = cap.read()\n",
    "    img, faces = detector.findFaceMesh(img, draw=False)\n",
    "\n",
    "    if faces:\n",
    "        face = faces[0]\n",
    "        for id in idList:\n",
    "            cv2.circle(img, face[id], 5,color, cv2.FILLED)\n",
    "\n",
    "        leftUp = face[159]\n",
    "        leftDown = face[23]\n",
    "        leftLeft = face[130]\n",
    "        leftRight = face[243]\n",
    "        lenghtVer, _ = detector.findDistance(leftUp, leftDown)\n",
    "        lenghtHor, _ = detector.findDistance(leftLeft, leftRight)\n",
    "\n",
    "        cv2.line(img, leftUp, leftDown, (0, 200, 0), 3)\n",
    "        cv2.line(img, leftLeft, leftRight, (0, 200, 0), 3)\n",
    "\n",
    "        ratio = int((lenghtVer / lenghtHor) * 100)\n",
    "        ratioList.append(ratio)\n",
    "        if len(ratioList) > 3:\n",
    "            ratioList.pop(0)\n",
    "        ratioAvg = sum(ratioList) / len(ratioList)\n",
    "        print(ratioAvg)\n",
    "        if ratioAvg < 35 and counter == 0:\n",
    "            blinkCounter += 1\n",
    "            color = (0,200,0)\n",
    "            counter = 1\n",
    "        if counter != 0:\n",
    "            counter += 1\n",
    "            if counter > 10:\n",
    "                counter = 0\n",
    "                color = (255,0, 255)\n",
    "\n",
    "        cvzone.putTextRect(img, f'Blink Count: {blinkCounter}', (50, 100),\n",
    "                           colorR=color)\n",
    "\n",
    "        imgPlot = plotY.update(ratioAvg, color)\n",
    "        img = cv2.resize(img, (640, 360))\n",
    "        imgStack = cvzone.stackImages([img, imgPlot], 2, 1)\n",
    "    else:\n",
    "        img = cv2.resize(img, (640, 360))\n",
    "        imgStack = cvzone.stackImages([img, img], 2, 1)\n",
    "\n",
    "    cv2.imshow(\"Image\", imgStack)\n",
    "    if cv2.waitKey(25)== ord('q'):\n",
    "        break\n",
    "cap.release()\n",
    "cv2.destroyAllWindows()\n"
   ]
  },
  {
   "cell_type": "code",
   "execution_count": null,
   "metadata": {},
   "outputs": [],
   "source": [
    "  "
   ]
  },
  {
   "cell_type": "code",
   "execution_count": null,
   "metadata": {},
   "outputs": [],
   "source": []
  }
 ],
 "metadata": {
  "kernelspec": {
   "display_name": "Python 3",
   "language": "python",
   "name": "python3"
  },
  "language_info": {
   "codemirror_mode": {
    "name": "ipython",
    "version": 3
   },
   "file_extension": ".py",
   "mimetype": "text/x-python",
   "name": "python",
   "nbconvert_exporter": "python",
   "pygments_lexer": "ipython3",
   "version": "3.7.6"
  }
 },
 "nbformat": 4,
 "nbformat_minor": 5
}
